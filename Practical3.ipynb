{
 "cells": [
  {
   "cell_type": "code",
   "execution_count": 7,
   "metadata": {
    "collapsed": true
   },
   "outputs": [],
   "source": [
    "import numpy as np\n",
    "import csv\n",
    "import pandas as pd\n",
    "import time \n",
    "# Predict via the median number of plays.\n",
    "\n",
    "train_file = 'train.csv'\n",
    "test_file  = 'test.csv'\n",
    "soln_file  = 'user_median.csv'"
   ]
  },
  {
   "cell_type": "code",
   "execution_count": 2,
   "metadata": {
    "collapsed": false
   },
   "outputs": [],
   "source": [
    "# Load the training data.\n",
    "train_data = {}\n",
    "with open(train_file, 'r') as train_fh:\n",
    "    train_csv = csv.reader(train_fh, delimiter=',', quotechar='\"')\n",
    "    next(train_csv, None)\n",
    "    for row in train_csv:\n",
    "        user   = row[0]\n",
    "        artist = row[1]\n",
    "        plays  = int(row[2])\n",
    "    \n",
    "        if not user in train_data:\n",
    "            train_data[user] = {}\n",
    "        \n",
    "        train_data[user][artist] = plays\n",
    "\n"
   ]
  },
  {
   "cell_type": "code",
   "execution_count": null,
   "metadata": {
    "collapsed": false
   },
   "outputs": [],
   "source": [
    "# Compute the global median.\n",
    "plays_array = []\n",
    "for user, user_data in train_data.iteritems():\n",
    "    for artist, plays in user_data.iteritems():\n",
    "        plays_array.append(plays)\n",
    "global_median = np.median(np.array(plays_array))\n",
    "print \"global median:\", global_median"
   ]
  },
  {
   "cell_type": "code",
   "execution_count": 3,
   "metadata": {
    "collapsed": true
   },
   "outputs": [],
   "source": [
    "# Compute the global median and per-user median.\n",
    "plays_array  = []\n",
    "user_medians = {}\n",
    "for user, user_data in train_data.iteritems():\n",
    "    user_plays = []\n",
    "    for artist, plays in user_data.iteritems():\n",
    "        plays_array.append(plays)\n",
    "        user_plays.append(plays)\n",
    "\n",
    "    user_medians[user] = np.median(np.array(user_plays))\n",
    "global_median = np.median(np.array(plays_array))"
   ]
  },
  {
   "cell_type": "code",
   "execution_count": null,
   "metadata": {
    "collapsed": false
   },
   "outputs": [],
   "source": [
    "# cluster user based on nationality and age\n",
    "user_df = pd.read_csv(\"profiles.csv\")\n",
    "user_df.head()"
   ]
  },
  {
   "cell_type": "code",
   "execution_count": null,
   "metadata": {
    "collapsed": false
   },
   "outputs": [],
   "source": [
    "user_df[\"sex\"][user_df[\"sex\"] == 'f'] = 0\n",
    "user_df[\"sex\"][user_df[\"sex\"] == 'm'] = 1\n",
    "user_df[\"sex\"] = user_df[\"sex\"].fillna(0)"
   ]
  },
  {
   "cell_type": "code",
   "execution_count": null,
   "metadata": {
    "collapsed": false
   },
   "outputs": [],
   "source": [
    "country_dict = {}\n",
    "for idx, i in enumerate(user_df[\"country\"].unique()):\n",
    "    country_dict[i] = idx\n",
    "user_df[\"country\"] = [country_dict[i] for i in user_df[\"country\"]]"
   ]
  },
  {
   "cell_type": "code",
   "execution_count": null,
   "metadata": {
    "collapsed": false
   },
   "outputs": [],
   "source": [
    "user_df.head(10)"
   ]
  },
  {
   "cell_type": "code",
   "execution_count": null,
   "metadata": {
    "collapsed": false
   },
   "outputs": [],
   "source": [
    "user_df[\"age\"] = user_df[\"age\"].fillna(user_df[\"age\"].mean())\n",
    "user_df[\"age\"].max()"
   ]
  },
  {
   "cell_type": "code",
   "execution_count": null,
   "metadata": {
    "collapsed": false
   },
   "outputs": [],
   "source": [
    "cluster = {}\n",
    "info = {}\n",
    "for row in user_df.iterrows():\n",
    "    user = row[1][\"user\"]\n",
    "    sex = row[1][\"sex\"]\n",
    "    nation = row[1][\"country\"]\n",
    "    age = row[1][\"age\"]\n",
    "    \n",
    "    info[user] = (nation, sex, age)\n",
    "    if nation not in cluster:\n",
    "        cluster[nation] = {}\n",
    "        cluster[nation][sex] = {}\n",
    "        cluster[nation][sex] = set([])\n",
    "        cluster[nation][sex].add(user)\n",
    "    else:\n",
    "        try:\n",
    "            cluster[nation][sex].add(user)\n",
    "        except KeyError:\n",
    "            cluster[nation][sex] = set([])\n",
    "            cluster[nation][sex].add(user)"
   ]
  },
  {
   "cell_type": "code",
   "execution_count": null,
   "metadata": {
    "collapsed": false
   },
   "outputs": [],
   "source": [
    "import time\n",
    "#data cluster\n",
    "start = time.time()\n",
    "cluster = {}\n",
    "info = {}\n",
    "count = 0\n",
    "for row in user_df.iterrows():\n",
    "    #print count\n",
    "    count += 1\n",
    "    user = row[1][\"user\"]\n",
    "    sex = row[1][\"sex\"]\n",
    "    nation = row[1][\"country\"]\n",
    "    age = row[1][\"age\"]\n",
    "    \n",
    "    data = train_data[user] # data is a dict\n",
    "    \n",
    "    info[user] = (nation, sex, age)\n",
    "    \n",
    "    if nation not in cluster:\n",
    "        cluster[nation] = {}\n",
    "        cluster[nation][sex] = {}\n",
    "        for artist in data:\n",
    "            cluster[nation][sex][artist] = [data[artist]]\n",
    "        cluster[nation][sex][\"undefined\"] = [user_medians[user]]\n",
    "    else:\n",
    "        if sex in cluster[nation]:\n",
    "            for artist in data:\n",
    "                try:\n",
    "                    cluster[nation][sex][artist].append(data[artist])\n",
    "                except KeyError:\n",
    "                    cluster[nation][sex][artist] = [data[artist]]\n",
    "            cluster[nation][sex][\"undefined\"].append(user_medians[user])\n",
    "        else:\n",
    "            cluster[nation][sex] = {}\n",
    "            for artist in data:\n",
    "                cluster[nation][sex][artist] = [data[artist]]\n",
    "            try:\n",
    "                cluster[nation][sex][\"undefined\"].append(user_medians[user])\n",
    "            except KeyError:\n",
    "                cluster[nation][sex][\"undefined\"] = [user_medians[user]]\n",
    "print time.time() - start"
   ]
  },
  {
   "cell_type": "code",
   "execution_count": null,
   "metadata": {
    "collapsed": false
   },
   "outputs": [],
   "source": [
    "#cluster based on nation\n",
    "import time\n",
    "#data cluster\n",
    "start = time.time()\n",
    "cluster = {}\n",
    "info = {}\n",
    "count = 0\n",
    "for row in user_df.iterrows():\n",
    "    #print count\n",
    "    count += 1\n",
    "    user = row[1][\"user\"]\n",
    "    sex = row[1][\"sex\"]\n",
    "    nation = row[1][\"country\"]\n",
    "    age = row[1][\"age\"]\n",
    "    \n",
    "    data = train_data[user] # data is a dict\n",
    "    \n",
    "    info[user] = (nation, sex, age)\n",
    "    \n",
    "    if nation not in cluster:\n",
    "        cluster[nation] = {}\n",
    "        for artist in data:\n",
    "            cluster[nation][artist] = [data[artist]]\n",
    "        cluster[nation][\"undefined\"] = [user_medians[user]]\n",
    "    else:\n",
    "        for artist in data:\n",
    "            try:\n",
    "                cluster[nation][artist].append(data[artist])\n",
    "            except KeyError:\n",
    "                cluster[nation][artist] = [data[artist]]\n",
    "        cluster[nation][\"undefined\"].append(user_medians[user])\n",
    "print time.time() - start"
   ]
  },
  {
   "cell_type": "code",
   "execution_count": null,
   "metadata": {
    "collapsed": false
   },
   "outputs": [],
   "source": [
    "len(cluster[\"China\"])"
   ]
  },
  {
   "cell_type": "code",
   "execution_count": null,
   "metadata": {
    "collapsed": false,
    "scrolled": true
   },
   "outputs": [],
   "source": [
    "with open(test_file, 'r') as test_fh:\n",
    "    test_csv = csv.reader(test_fh, delimiter=',', quotechar='\"')\n",
    "    next(test_csv, None)\n",
    "\n",
    "    with open(\"test_groups_mean.csv\", 'w') as soln_fh:\n",
    "        soln_csv = csv.writer(soln_fh,\n",
    "                              delimiter=',',\n",
    "                              quotechar='\"',\n",
    "                              quoting=csv.QUOTE_MINIMAL)\n",
    "        soln_csv.writerow(['Id', 'plays'])\n",
    "        #count = 0 \n",
    "        for row in test_csv:\n",
    "            count += 1\n",
    "            #print count\n",
    "            id     = row[0]\n",
    "            user   = row[1]\n",
    "            artist = row[2]\n",
    "             \n",
    "            nation = info[user][0]\n",
    "            sex = info[user][1]\n",
    "            \n",
    "            #list_neigbor = cluster[nation][sex]\n",
    "            try :\n",
    "                value = cluster[nation][sex][artist]\n",
    "            except KeyError:\n",
    "                value = user_medians[user]\n",
    "            #value = []\n",
    "#             for i in list_neigbor:\n",
    "#                 try:\n",
    "#                     value.append(train_data[i][artist])\n",
    "#                 except KeyError:\n",
    "#                     value.append(user_medians[i])\n",
    "            avg = np.mean(value)\n",
    "            soln_csv.writerow([id,avg])\n",
    "            #print avg\n",
    "            #if user in user_medians:\n",
    "                #soln_csv.writerow([id, user_medians[user]])\n",
    "            #else:\n",
    "                #print \"User\", id, \"not in training data.\"\n",
    "                #soln_csv.writerow([id, global_median])\n",
    "#             if len(value) != 0:\n",
    "#                 soln_csv.writerow([id, avg])\n",
    "#             else:\n",
    "#                 soln_csv.writerow([id, global_median])\n",
    "            \n",
    "            \n"
   ]
  },
  {
   "cell_type": "code",
   "execution_count": null,
   "metadata": {
    "collapsed": false
   },
   "outputs": [],
   "source": [
    "# write to test basd on nataion\n",
    "with open(test_file, 'r') as test_fh:\n",
    "    test_csv = csv.reader(test_fh, delimiter=',', quotechar='\"')\n",
    "    next(test_csv, None)\n",
    "\n",
    "    with open(\"test_nation_median.csv\", 'w') as soln_fh:\n",
    "        soln_csv = csv.writer(soln_fh,\n",
    "                              delimiter=',',\n",
    "                              quotechar='\"',\n",
    "                              quoting=csv.QUOTE_MINIMAL)\n",
    "        soln_csv.writerow(['Id', 'plays'])\n",
    "        #count = 0 \n",
    "        for row in test_csv:\n",
    "            count += 1\n",
    "            #print count\n",
    "            id     = row[0]\n",
    "            user   = row[1]\n",
    "            artist = row[2]\n",
    "             \n",
    "            nation = info[user][0]\n",
    "            \n",
    "            #list_neigbor = cluster[nation][sex]\n",
    "#             try :\n",
    "#                 value = cluster[nation][artist]\n",
    "#             except KeyError:\n",
    "#                 value = cluster[nation][\"undefined\"]\n",
    "#             avg =int(np.median(value))\n",
    "#             soln_csv.writerow([id,avg])\n",
    "            if user in user_medians:\n",
    "                soln_csv.writerow([id, user_medians[user]])\n",
    "            else:\n",
    "                print \"User\", id, \"not in training data.\"\n",
    "                soln_csv.writerow([id, global_median])\n",
    "            \n",
    "\n"
   ]
  },
  {
   "cell_type": "code",
   "execution_count": null,
   "metadata": {
    "collapsed": false
   },
   "outputs": [],
   "source": [
    "user_df.head(20)"
   ]
  },
  {
   "cell_type": "code",
   "execution_count": 5,
   "metadata": {
    "collapsed": true
   },
   "outputs": [],
   "source": [
    "# Write out test solutions.\n",
    "with open(test_file, 'r') as test_fh:\n",
    "    test_csv = csv.reader(test_fh, delimiter=',', quotechar='\"')\n",
    "    next(test_csv, None)\n",
    "\n",
    "    with open(\"user_median_0.97.csv\", 'w') as soln_fh:\n",
    "        soln_csv = csv.writer(soln_fh,\n",
    "                              delimiter=',',\n",
    "                              quotechar='\"',\n",
    "                              quoting=csv.QUOTE_MINIMAL)\n",
    "        soln_csv.writerow(['Id', 'plays'])\n",
    "\n",
    "        for row in test_csv:\n",
    "            id     = row[0]\n",
    "            user   = row[1]\n",
    "            artist = row[2]\n",
    "\n",
    "            if user in user_medians:\n",
    "                soln_csv.writerow([id, 0.97 * user_medians[user]])\n",
    "            else:\n",
    "                print \"User\", id, \"not in training data.\"\n",
    "                soln_csv.writerow([id, global_median])\n"
   ]
  },
  {
   "cell_type": "code",
   "execution_count": 8,
   "metadata": {
    "collapsed": false
   },
   "outputs": [
    {
     "ename": "KeyboardInterrupt",
     "evalue": "",
     "output_type": "error",
     "traceback": [
      "\u001b[0;31m---------------------------------------------------------------------------\u001b[0m",
      "\u001b[0;31mKeyboardInterrupt\u001b[0m                         Traceback (most recent call last)",
      "\u001b[0;32m<ipython-input-8-8a5fd62c5c80>\u001b[0m in \u001b[0;36m<module>\u001b[0;34m()\u001b[0m\n\u001b[1;32m     49\u001b[0m \u001b[0;34m\u001b[0m\u001b[0m\n\u001b[1;32m     50\u001b[0m \u001b[0;34m(\u001b[0m\u001b[0mtrain_data\u001b[0m\u001b[0;34m,\u001b[0m \u001b[0my_train\u001b[0m\u001b[0;34m,\u001b[0m \u001b[0mtrain_users\u001b[0m\u001b[0;34m,\u001b[0m \u001b[0mtrain_items\u001b[0m\u001b[0;34m)\u001b[0m \u001b[0;34m=\u001b[0m \u001b[0mloadData\u001b[0m\u001b[0;34m(\u001b[0m\u001b[0mtrain_file\u001b[0m\u001b[0;34m,\u001b[0m \u001b[0mTrue\u001b[0m\u001b[0;34m)\u001b[0m\u001b[0;34m\u001b[0m\u001b[0m\n\u001b[0;32m---> 51\u001b[0;31m \u001b[0;34m(\u001b[0m\u001b[0mtest_data\u001b[0m\u001b[0;34m,\u001b[0m \u001b[0my_test\u001b[0m\u001b[0;34m,\u001b[0m \u001b[0mtest_users\u001b[0m\u001b[0;34m,\u001b[0m \u001b[0mtest_items\u001b[0m\u001b[0;34m)\u001b[0m \u001b[0;34m=\u001b[0m \u001b[0mloadData\u001b[0m\u001b[0;34m(\u001b[0m\u001b[0mtest_file\u001b[0m\u001b[0;34m,\u001b[0m \u001b[0mFalse\u001b[0m\u001b[0;34m)\u001b[0m\u001b[0;34m\u001b[0m\u001b[0m\n\u001b[0m\u001b[1;32m     52\u001b[0m \u001b[0mv\u001b[0m \u001b[0;34m=\u001b[0m \u001b[0mDictVectorizer\u001b[0m\u001b[0;34m(\u001b[0m\u001b[0;34m)\u001b[0m\u001b[0;34m\u001b[0m\u001b[0m\n\u001b[1;32m     53\u001b[0m \u001b[0mX_train\u001b[0m \u001b[0;34m=\u001b[0m \u001b[0mv\u001b[0m\u001b[0;34m.\u001b[0m\u001b[0mfit_transform\u001b[0m\u001b[0;34m(\u001b[0m\u001b[0mtrain_data\u001b[0m\u001b[0;34m)\u001b[0m\u001b[0;34m\u001b[0m\u001b[0m\n",
      "\u001b[0;32m<ipython-input-8-8a5fd62c5c80>\u001b[0m in \u001b[0;36mloadData\u001b[0;34m(filename, train)\u001b[0m\n\u001b[1;32m     39\u001b[0m         \u001b[0;32melse\u001b[0m\u001b[0;34m:\u001b[0m\u001b[0;34m\u001b[0m\u001b[0m\n\u001b[1;32m     40\u001b[0m             \u001b[0;32mfor\u001b[0m \u001b[0mrow\u001b[0m \u001b[0;32min\u001b[0m \u001b[0mdata_csv\u001b[0m\u001b[0;34m:\u001b[0m\u001b[0;34m\u001b[0m\u001b[0m\n\u001b[0;32m---> 41\u001b[0;31m                 \u001b[0muser\u001b[0m   \u001b[0;34m=\u001b[0m \u001b[0mrow\u001b[0m\u001b[0;34m[\u001b[0m\u001b[0;36m0\u001b[0m\u001b[0;34m]\u001b[0m\u001b[0;34m\u001b[0m\u001b[0m\n\u001b[0m\u001b[1;32m     42\u001b[0m                 \u001b[0martist\u001b[0m \u001b[0;34m=\u001b[0m \u001b[0mrow\u001b[0m\u001b[0;34m[\u001b[0m\u001b[0;36m1\u001b[0m\u001b[0;34m]\u001b[0m\u001b[0;34m\u001b[0m\u001b[0m\n\u001b[1;32m     43\u001b[0m \u001b[0;34m\u001b[0m\u001b[0m\n",
      "\u001b[0;31mKeyboardInterrupt\u001b[0m: "
     ]
    }
   ],
   "source": [
    "import numpy as np\n",
    "from sklearn.feature_extraction import DictVectorizer\n",
    "from pyfm import pylibfm\n",
    "\n",
    "# train_data = {}\n",
    "# with open(train_file, 'r') as train_fh:\n",
    "#     train_csv = csv.reader(train_fh, delimiter=',', quotechar='\"')\n",
    "#     next(train_csv, None)\n",
    "#     for row in train_csv:\n",
    "#         user   = row[0]\n",
    "#         artist = row[1]\n",
    "#         plays  = int(row[2])\n",
    "    \n",
    "#         if not user in train_data:\n",
    "#             train_data[user] = {}\n",
    "        \n",
    "#         train_data[user][artist] = plays\n",
    "\n",
    "# # Read in data\n",
    "\n",
    "def loadData(filename, train = True):\n",
    "    data = []\n",
    "    y = []\n",
    "    users=set()\n",
    "    items=set()\n",
    "    with open(filename, 'r') as f:\n",
    "        data_csv = csv.reader(f, delimiter=',', quotechar='\"')\n",
    "        next(data_csv, None)\n",
    "        if train:\n",
    "            for row in data_csv:\n",
    "                user   = row[0]\n",
    "                artist = row[1]\n",
    "                plays  = int(row[2])\n",
    "            \n",
    "                data.append({ \"user_id\": str(user), \"movie_id\": str(artist)})\n",
    "                y.append(float(plays))\n",
    "                users.add(user)\n",
    "                items.add(artist)\n",
    "        else:\n",
    "            for row in data_csv:\n",
    "                user   = row[0]\n",
    "                artist = row[1]\n",
    "            \n",
    "                data.append({ \"user_id\": str(user), \"movie_id\": str(artist)})\n",
    "                users.add(user)\n",
    "                items.add(artist)\n",
    "\n",
    "    return (data, np.array(y), users, items)\n",
    "\n",
    "(train_data, y_train, train_users, train_items) = loadData(train_file, True)\n",
    "(test_data, y_test, test_users, test_items) = loadData(test_file, False)\n",
    "v = DictVectorizer()\n",
    "X_train = v.fit_transform(train_data)\n",
    "X_test = v.transform(test_data)\n",
    "\n",
    "# Build and train a Factorization Machine\n",
    "#fm = pylibfm.FM(num_factors=10, num_iter=100, verbose=True, task=\"regression\", initial_learning_rate=0.001, learning_rate_schedule=\"optimal\")\n",
    "\n",
    "#fm.fit(X_train,y_train)"
   ]
  },
  {
   "cell_type": "code",
   "execution_count": 12,
   "metadata": {
    "collapsed": true
   },
   "outputs": [],
   "source": [
    "import numpy as np\n",
    "from sklearn.feature_extraction import DictVectorizer\n",
    "from pyfm import pylibfm"
   ]
  },
  {
   "cell_type": "code",
   "execution_count": 9,
   "metadata": {
    "collapsed": false
   },
   "outputs": [],
   "source": [
    "def loadData(filename, train = True):\n",
    "    data = []\n",
    "    y = []\n",
    "    users=set()\n",
    "    items=set()\n",
    "    with open(filename) as f:\n",
    "        for line in f:\n",
    "            (user, artist, plays) = line.strip().split(',')\n",
    "            if user == 'user':\n",
    "                continue\n",
    "            else:\n",
    "                data.append({\"user_id\" : str(user), \"artist\" : str(artist)})\n",
    "                y.append(float(plays))\n",
    "                users.add(user)\n",
    "                items.add(artist)\n",
    "    return (data, np.array(y), users, items)"
   ]
  },
  {
   "cell_type": "code",
   "execution_count": 13,
   "metadata": {
    "collapsed": false
   },
   "outputs": [],
   "source": [
    "(train_data, y_train, train_users, train_items) = loadData(train_file, True)\n",
    "v = DictVectorizer()\n",
    "X_train = v.fit_transform(train_data)\n",
    "\n",
    "\n",
    "\n"
   ]
  },
  {
   "cell_type": "code",
   "execution_count": null,
   "metadata": {
    "collapsed": false,
    "scrolled": false
   },
   "outputs": [],
   "source": [
    "fm_1 = pylibfm.FM(num_factors=5, num_iter=100, verbose=True, task=\"regression\", initial_learning_rate= 10 **(-6), learning_rate_schedule=\"optimal\")\n",
    "\n",
    "fm_1.fit(X_train,y_train)"
   ]
  },
  {
   "cell_type": "code",
   "execution_count": null,
   "metadata": {
    "collapsed": false,
    "scrolled": false
   },
   "outputs": [
    {
     "name": "stdout",
     "output_type": "stream",
     "text": [
      "Creating validation dataset of 0.02 of training for adaptive regularization\n",
      "-- Epoch 1"
     ]
    }
   ],
   "source": [
    "fm_2 = pylibfm.FM(num_factors=100, num_iter=200, verbose=True,validation_size = 0.02, task=\"regression\", initial_learning_rate= 3 * 10 **(-6), learning_rate_schedule=\"optimal\")\n",
    "\n",
    "fm_2.fit(X_train,y_train)"
   ]
  },
  {
   "cell_type": "code",
   "execution_count": null,
   "metadata": {
    "collapsed": false,
    "scrolled": false
   },
   "outputs": [],
   "source": [
    "fm_3 = pylibfm.FM(num_factors=40, num_iter=300, verbose=True, task=\"regression\", initial_learning_rate= 10 **(-6), learning_rate_schedule=\"optimal\")\n",
    "\n",
    "fm_3.fit(X_train,y_train)"
   ]
  },
  {
   "cell_type": "code",
   "execution_count": null,
   "metadata": {
    "collapsed": true
   },
   "outputs": [],
   "source": [
    "# write to test basd on nataion\n",
    "with open(test_file, 'r') as test_fh:\n",
    "    test_csv = csv.reader(test_fh, delimiter=',', quotechar='\"')\n",
    "    next(test_csv, None)\n",
    "\n",
    "    with open(\"test_nation_median.csv\", 'w') as soln_fh:\n",
    "        soln_csv = csv.writer(soln_fh,\n",
    "                              delimiter=',',\n",
    "                              quotechar='\"',\n",
    "                              quoting=csv.QUOTE_MINIMAL)\n",
    "        soln_csv.writerow(['Id', 'plays'])\n",
    "        #count = 0 \n",
    "        for row in test_csv:\n",
    "            count += 1\n",
    "            #print count\n",
    "            id     = row[0]\n",
    "            user   = row[1]\n",
    "            artist = row[2]\n",
    "             \n",
    "            nation = info[user][0]\n",
    "            \n",
    "            #list_neigbor = cluster[nation][sex]\n",
    "#             try :\n",
    "#                 value = cluster[nation][artist]\n",
    "#             except KeyError:\n",
    "#                 value = cluster[nation][\"undefined\"]\n",
    "#             avg =int(np.median(value))\n",
    "#             soln_csv.writerow([id,avg])\n",
    "            if user in user_medians:\n",
    "                soln_csv.writerow([id, user_medians[user]])\n",
    "            else:\n",
    "                print \"User\", id, \"not in training data.\"\n",
    "                soln_csv.writerow([id, global_median])"
   ]
  }
 ],
 "metadata": {
  "kernelspec": {
   "display_name": "Python 2",
   "language": "python",
   "name": "python2"
  },
  "language_info": {
   "codemirror_mode": {
    "name": "ipython",
    "version": 2
   },
   "file_extension": ".py",
   "mimetype": "text/x-python",
   "name": "python",
   "nbconvert_exporter": "python",
   "pygments_lexer": "ipython2",
   "version": "2.7.11"
  }
 },
 "nbformat": 4,
 "nbformat_minor": 0
}
